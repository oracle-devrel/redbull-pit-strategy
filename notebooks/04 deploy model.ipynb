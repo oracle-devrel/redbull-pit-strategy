{
 "cells": [
  {
   "cell_type": "markdown",
   "id": "b489deaa",
   "metadata": {},
   "source": [
    "***\n",
    "<p style=\"font-size:26px;\">\n",
    "<font color=red> Deploy and Invoke your model through Data Science Model Deployment</font>\n",
    "<p style=\"margin-left:10%; margin-right:10%;\">by the <font color=teal> Oracle Cloud Infrastructure</font></p>\n",
    "\n",
    "***\n",
    "\n",
    "## Overview:\n",
    "Load pre-trained model for and deploy it.\n",
    "\n",
    "\n",
    "We demonstrate:\n",
    "1. Load saved model from previous notebook\n",
    "2. prepare and deploy the model using ADS"
   ]
  },
  {
   "cell_type": "markdown",
   "id": "25c55d6b",
   "metadata": {},
   "source": [
    "---\n",
    "\n",
    "## Contents:\n",
    "\n",
    "* <a href='#data'>Load data</a>\n",
    "* <a href='#loadModel'>Load Model</a>\n",
    "* <a href='#serialize'>Serialization and model deploymnet </a>\n",
    "* <a href='#invoke_endpoint'>Invoke endpoint</a>\n",
    "* <a href='#cleanup'>Clean up and delete deployed model</a>\n",
    "---"
   ]
  },
  {
   "cell_type": "markdown",
   "id": "812c9fd1",
   "metadata": {},
   "source": [
    "### Load basic packages"
   ]
  },
  {
   "cell_type": "code",
   "execution_count": 1,
   "id": "1c78debe",
   "metadata": {},
   "outputs": [],
   "source": [
    "path = '/home/datascience/RedBull-Racining-TimeToPit/notebooks'\n",
    "data_path = '../../RedBull-Racining-TimeToPit/data/'"
   ]
  },
  {
   "cell_type": "code",
   "execution_count": 2,
   "id": "d6195cff",
   "metadata": {},
   "outputs": [],
   "source": [
    "import os\n",
    "os.chdir(path)\n",
    "import pandas as pd\n",
    "import logging\n",
    "import json\n",
    "import pickle\n",
    "import requests\n",
    "import numpy as np\n",
    "import datetime as dt\n",
    "import seaborn as sns\n",
    "import matplotlib.pyplot as plt"
   ]
  },
  {
   "cell_type": "markdown",
   "id": "620c28be",
   "metadata": {},
   "source": [
    "<a id='data'></a>\n",
    "# Load data \n",
    "\n",
    "1. Load data `final_data.csv`\n",
    "2. Filter out races with lesser than 5 or higher than 50 laps\n",
    "2. Bucketize the target variable (StintLen)"
   ]
  },
  {
   "cell_type": "code",
   "execution_count": null,
   "id": "4d7a8aa3",
   "metadata": {},
   "outputs": [],
   "source": []
  },
  {
   "cell_type": "code",
   "execution_count": 3,
   "id": "17aaca55",
   "metadata": {},
   "outputs": [
    {
     "name": "stdout",
     "output_type": "stream",
     "text": [
      "-------------------------------------------------------------------------------- \n",
      " Size of Data:  (1245, 29) \n",
      " -------------------------------------------------------------------------------- \n",
      "\n"
     ]
    }
   ],
   "source": [
    "df = pd.read_csv(data_path+'final_data.csv',)\n",
    "\n",
    "## remove any StintLen lesser than 5 and greather than 35\n",
    "## SintNumber==1\n",
    "df = df[(df['StintLen']>5) & (df['StintLen']<=35) & (df['Stint']==1)] #& (df['Stint']==1)\n",
    "\n",
    "\n",
    "## bucketize `target variable` and assign a label to each bucket\n",
    "bins = np.array([5,10,15,20,25,30,35])\n",
    "labels = np.arange(len(bins)-1)\n",
    "\n",
    "df['classLabels'] = pd.cut(df.StintLen, bins=bins,labels=labels)\n",
    "\n",
    "print('-'*80,'\\n', 'Size of Data: ', df.shape,'\\n', '-'*80,'\\n')"
   ]
  },
  {
   "cell_type": "code",
   "execution_count": 4,
   "id": "01632980",
   "metadata": {},
   "outputs": [],
   "source": [
    "x = df[['EventName','Compound','Driver', 'TyreAge', \n",
    "           'meanAirTemp', 'meanTrackTemp', 'meanHumid', 'Rainfall', \n",
    "           'GridPosition', 'Position','CircuitLength','designedLaps','classLabels'] ].reset_index(drop=True)\n",
    "categorical_cols = []\n",
    "numerical_cols = []\n",
    "\n",
    "\n",
    "y = x[0:10].classLabels #pd.Categorical(x.classLabels).codes\n",
    "x = x[0:10].drop(['classLabels'],axis=1)\n",
    "\n",
    "# X_train_xgbc, X_test_xgbc, y_train_xgbc, y_test_xgbc = train_test_split(x, y, test_size=0.25, random_state=42)\n",
    "# print('Regression data size for train and test: ', len(X_train_xgbc), len(X_test_xgbc),\n",
    "#       '\\nClassification data size for train and test: ', len(X_train_xgbc), len(y_test_xgbc))"
   ]
  },
  {
   "cell_type": "markdown",
   "id": "b8b5200b",
   "metadata": {},
   "source": [
    "<a id='loadModel'></a>\n",
    "# Load Model"
   ]
  },
  {
   "cell_type": "code",
   "execution_count": 13,
   "id": "4c9a08dc",
   "metadata": {},
   "outputs": [],
   "source": [
    "import joblib\n",
    "ppl_model = joblib.load(data_path+'gbm_model.pkl')"
   ]
  },
  {
   "cell_type": "markdown",
   "id": "b2d5bc8d",
   "metadata": {},
   "source": [
    "<a id='serialize'></a>\n",
    "# Serialization and Model Deployment\n",
    "\n",
    "The Sklearn framework makes it easy to deploy a scikit-learn model into production. The `SklearnModel()` constructor takes a scikit-learn model and converts it into an `SklearnModel` object. To deploy the model into production, you need to prepare the model artifact, verify that the artifact works, save the model to the model catalog, and then deploy it.\n",
    "\n",
    "ADS provides a number of methods that greatly simplify the model deployment process. It also provides the `.summary_status()` method that outputs a dataframe that defines the steps, status, and detailed information about each step. \n",
    "\n",
    "<a id='serialize_sklearnmodel'></a>\n",
    "## Create a SklearnModel\n",
    "\n",
    "The `SklearnModel()` constructor takes a scikit-learn model along with the path that you want to use to store the model artifacts. An `SklearnModel` object is returned, and it is used to manage the deployment.\n",
    "\n",
    "The next cell creates a model artifact directory. This directory is used to store the artifacts that are needed to deploy the model. It also creates the `SklearnModel` object."
   ]
  },
  {
   "cell_type": "code",
   "execution_count": 14,
   "id": "dfd64c09",
   "metadata": {},
   "outputs": [
    {
     "data": {
      "text/plain": [
       "'/home/datascience/RedBull-Racining-TimeToPit/notebooks'"
      ]
     },
     "execution_count": 14,
     "metadata": {},
     "output_type": "execute_result"
    }
   ],
   "source": [
    "pwd"
   ]
  },
  {
   "cell_type": "code",
   "execution_count": 15,
   "id": "409d8d1c",
   "metadata": {},
   "outputs": [],
   "source": [
    "from ads.catalog.model import ModelCatalog\n",
    "from ads.common.model_metadata import UseCaseType\n",
    "from ads.model.framework.sklearn_model import SklearnModel\n",
    "import ads"
   ]
  },
  {
   "cell_type": "code",
   "execution_count": 16,
   "id": "a2419691",
   "metadata": {},
   "outputs": [],
   "source": [
    "ads.set_auth(\"resource_principal\")"
   ]
  },
  {
   "cell_type": "code",
   "execution_count": 17,
   "id": "351f08c8",
   "metadata": {},
   "outputs": [
    {
     "name": "stdout",
     "output_type": "stream",
     "text": [
      "Model artifact director: ../md-rbc-Pipeline-model\n"
     ]
    }
   ],
   "source": [
    "artifact_dir = f\"../md-rbc-Pipeline-model\"#tempfile.mkdtemp()\n",
    "print(f\"Model artifact director: {artifact_dir}\")\n",
    "sklearn_model = SklearnModel(estimator=ppl_model, artifact_dir=artifact_dir)"
   ]
  },
  {
   "cell_type": "markdown",
   "id": "efc715f8",
   "metadata": {},
   "source": [
    "The `.summary_status()` method of the `SklearnModel` class is a handy method to keep track of the progress that you are making in deploying the model. It creates a dataframe that lists the deployment steps, thier status, and details about them. The next cell returns the summary status dataframe. It shows that the initiate step has been completed."
   ]
  },
  {
   "cell_type": "code",
   "execution_count": 18,
   "id": "14269d1e",
   "metadata": {},
   "outputs": [
    {
     "data": {
      "text/html": [
       "<div>\n",
       "<style scoped>\n",
       "    .dataframe tbody tr th:only-of-type {\n",
       "        vertical-align: middle;\n",
       "    }\n",
       "\n",
       "    .dataframe tbody tr th {\n",
       "        vertical-align: top;\n",
       "    }\n",
       "\n",
       "    .dataframe thead th {\n",
       "        text-align: right;\n",
       "    }\n",
       "</style>\n",
       "<table border=\"1\" class=\"dataframe\">\n",
       "  <thead>\n",
       "    <tr style=\"text-align: right;\">\n",
       "      <th></th>\n",
       "      <th></th>\n",
       "      <th></th>\n",
       "      <th>Actions Needed</th>\n",
       "    </tr>\n",
       "    <tr>\n",
       "      <th>Step</th>\n",
       "      <th>Status</th>\n",
       "      <th>Details</th>\n",
       "      <th></th>\n",
       "    </tr>\n",
       "  </thead>\n",
       "  <tbody>\n",
       "    <tr>\n",
       "      <th>initiate</th>\n",
       "      <th>Done</th>\n",
       "      <th>Initiated the model</th>\n",
       "      <td></td>\n",
       "    </tr>\n",
       "    <tr>\n",
       "      <th rowspan=\"4\" valign=\"top\">prepare()</th>\n",
       "      <th rowspan=\"4\" valign=\"top\">Available</th>\n",
       "      <th>Generated runtime.yaml</th>\n",
       "      <td></td>\n",
       "    </tr>\n",
       "    <tr>\n",
       "      <th>Generated score.py</th>\n",
       "      <td></td>\n",
       "    </tr>\n",
       "    <tr>\n",
       "      <th>Serialized model</th>\n",
       "      <td></td>\n",
       "    </tr>\n",
       "    <tr>\n",
       "      <th>Populated metadata(Custom, Taxonomy and Provenance)</th>\n",
       "      <td></td>\n",
       "    </tr>\n",
       "    <tr>\n",
       "      <th>verify()</th>\n",
       "      <th>Not Available</th>\n",
       "      <th>Local tested .predict from score.py</th>\n",
       "      <td></td>\n",
       "    </tr>\n",
       "    <tr>\n",
       "      <th rowspan=\"2\" valign=\"top\">save()</th>\n",
       "      <th rowspan=\"2\" valign=\"top\">Not Available</th>\n",
       "      <th>Conducted Introspect Test</th>\n",
       "      <td></td>\n",
       "    </tr>\n",
       "    <tr>\n",
       "      <th>Uploaded artifact to model catalog</th>\n",
       "      <td></td>\n",
       "    </tr>\n",
       "    <tr>\n",
       "      <th>deploy()</th>\n",
       "      <th>Not Available</th>\n",
       "      <th>Deployed the model</th>\n",
       "      <td></td>\n",
       "    </tr>\n",
       "    <tr>\n",
       "      <th>predict()</th>\n",
       "      <th>Not Available</th>\n",
       "      <th>Called deployment predict endpoint</th>\n",
       "      <td></td>\n",
       "    </tr>\n",
       "  </tbody>\n",
       "</table>\n",
       "</div>"
      ],
      "text/plain": [
       "                                                                            Actions Needed\n",
       "Step      Status        Details                                                           \n",
       "initiate  Done          Initiated the model                                               \n",
       "prepare() Available     Generated runtime.yaml                                            \n",
       "                        Generated score.py                                                \n",
       "                        Serialized model                                                  \n",
       "                        Populated metadata(Custom, Taxonomy and Provenance)               \n",
       "verify()  Not Available Local tested .predict from score.py                               \n",
       "save()    Not Available Conducted Introspect Test                                         \n",
       "                        Uploaded artifact to model catalog                                \n",
       "deploy()  Not Available Deployed the model                                                \n",
       "predict() Not Available Called deployment predict endpoint                                "
      ]
     },
     "execution_count": 18,
     "metadata": {},
     "output_type": "execute_result"
    }
   ],
   "source": [
    "sklearn_model.summary_status()"
   ]
  },
  {
   "cell_type": "markdown",
   "id": "72e04874",
   "metadata": {},
   "source": [
    "<a id='serialize_prepare'></a>\n",
    "## Prepare\n",
    "\n",
    "The prepare step is performed by the `.prepare()` method of the `SklearnModel` class. It creates a number of customized files that are used to run the model once it is deployed. These include:\n",
    "\n",
    "* `input_schema.json`: A JSON file that defines the nature of the features of the `X_sample` data. It includes metadata such as the data type, name, constraints, summary statistics, feature type, and more.\n",
    "* `model.joblib`: This is the default filename of the serialized model. It can be changed with the `model_file_name` attribute. By default, the model is stored in a joblib file. The parameter `as_onnx` can be used to save it in the ONNX format.\n",
    "* `output_schema.json`: A JSON file that defines the nature of the dependent variable in the `y_sample` data. It includes metadata such as the data type, name, constraints, summary statistics, feature type, and more.\n",
    "* `runtime.yaml`: This file contains information that is needed to set up the runtime environment on the deployment server. It has information about which conda environment was used to train the model, and what environment should be used to deploy the model. The file also specifies what version of Python should be used.\n",
    "* `score.py`: This script contains the `load_model()` and `predict()` functions. The `load_model()` function understands the format the model file was saved in and loads it into memory. The `.predict()` method is used to make inferences in a deployed model. There are also hooks that allow you to perform operations before and after inference. You can modify this script to fit your specific needs.\n",
    "\n",
    "To create the model artifacts, you use the `.prepare()` method. There are a number of parameters that allow you to store model provenance information. In the next cell, the `conda_env` variable defines the slug of the conda environment that was used to train the model, and also the conda environment that should be used for deployment. Note that you can only pass in slugs to `inference_conda_env` or `training_conda_env` if it's a service environment. Otherwise, you must pass in the full path of the conda envvironment along with the python version through `inference_python_version` and `training_python_version`."
   ]
  },
  {
   "cell_type": "code",
   "execution_count": 20,
   "id": "ff23e4cc",
   "metadata": {},
   "outputs": [],
   "source": [
    "conda_env = 'generalml_p37_cpu_v1'\n",
    "\n",
    "sklearn_model.prepare(\n",
    "    inference_conda_env=conda_env,\n",
    "    training_conda_env=conda_env,\n",
    "    use_case_type=UseCaseType.BINARY_CLASSIFICATION,\n",
    "    X_sample=x, #X_test_xgbc,\n",
    "    y_sample=y, #y_test_xgbc,\n",
    ")"
   ]
  },
  {
   "cell_type": "markdown",
   "id": "b3a0e11a",
   "metadata": {},
   "source": [
    "The next cell uses the `.summary_status()` method to show you that the prepare step finished, and what tasks were completed.\n",
    "\n",
    "Make sure you apply the following changes to the end of score.py in case you want the endpoint to return probability of detection along with binary classification results:\n",
    "\n",
    "`input = pre_inference(data, input_schema_path)`\n",
    "\n",
    "`yhat_bin = post_inference(model.predict(input))`\n",
    "\n",
    "`yhat_prob = post_inference(model.predict_proba(input))`\n",
    "\n",
    "`return {'prediction': yhat_bin,'Probability':yhat_prob}`"
   ]
  },
  {
   "cell_type": "code",
   "execution_count": 21,
   "id": "7ce97e72",
   "metadata": {},
   "outputs": [
    {
     "data": {
      "text/html": [
       "<div>\n",
       "<style scoped>\n",
       "    .dataframe tbody tr th:only-of-type {\n",
       "        vertical-align: middle;\n",
       "    }\n",
       "\n",
       "    .dataframe tbody tr th {\n",
       "        vertical-align: top;\n",
       "    }\n",
       "\n",
       "    .dataframe thead th {\n",
       "        text-align: right;\n",
       "    }\n",
       "</style>\n",
       "<table border=\"1\" class=\"dataframe\">\n",
       "  <thead>\n",
       "    <tr style=\"text-align: right;\">\n",
       "      <th></th>\n",
       "      <th></th>\n",
       "      <th></th>\n",
       "      <th>Actions Needed</th>\n",
       "    </tr>\n",
       "    <tr>\n",
       "      <th>Step</th>\n",
       "      <th>Status</th>\n",
       "      <th>Details</th>\n",
       "      <th></th>\n",
       "    </tr>\n",
       "  </thead>\n",
       "  <tbody>\n",
       "    <tr>\n",
       "      <th>initiate</th>\n",
       "      <th>Done</th>\n",
       "      <th>Initiated the model</th>\n",
       "      <td></td>\n",
       "    </tr>\n",
       "    <tr>\n",
       "      <th rowspan=\"4\" valign=\"top\">prepare()</th>\n",
       "      <th rowspan=\"4\" valign=\"top\">Done</th>\n",
       "      <th>Generated runtime.yaml</th>\n",
       "      <td></td>\n",
       "    </tr>\n",
       "    <tr>\n",
       "      <th>Generated score.py</th>\n",
       "      <td></td>\n",
       "    </tr>\n",
       "    <tr>\n",
       "      <th>Serialized model</th>\n",
       "      <td></td>\n",
       "    </tr>\n",
       "    <tr>\n",
       "      <th>Populated metadata(Custom, Taxonomy and Provenance)</th>\n",
       "      <td></td>\n",
       "    </tr>\n",
       "    <tr>\n",
       "      <th>verify()</th>\n",
       "      <th>Available</th>\n",
       "      <th>Local tested .predict from score.py</th>\n",
       "      <td></td>\n",
       "    </tr>\n",
       "    <tr>\n",
       "      <th rowspan=\"2\" valign=\"top\">save()</th>\n",
       "      <th rowspan=\"2\" valign=\"top\">Available</th>\n",
       "      <th>Conducted Introspect Test</th>\n",
       "      <td></td>\n",
       "    </tr>\n",
       "    <tr>\n",
       "      <th>Uploaded artifact to model catalog</th>\n",
       "      <td></td>\n",
       "    </tr>\n",
       "    <tr>\n",
       "      <th>deploy()</th>\n",
       "      <th>Not Available</th>\n",
       "      <th>Deployed the model</th>\n",
       "      <td></td>\n",
       "    </tr>\n",
       "    <tr>\n",
       "      <th>predict()</th>\n",
       "      <th>Not Available</th>\n",
       "      <th>Called deployment predict endpoint</th>\n",
       "      <td></td>\n",
       "    </tr>\n",
       "  </tbody>\n",
       "</table>\n",
       "</div>"
      ],
      "text/plain": [
       "                                                                            Actions Needed\n",
       "Step      Status        Details                                                           \n",
       "initiate  Done          Initiated the model                                               \n",
       "prepare() Done          Generated runtime.yaml                                            \n",
       "                        Generated score.py                                                \n",
       "                        Serialized model                                                  \n",
       "                        Populated metadata(Custom, Taxonomy and Provenance)               \n",
       "verify()  Available     Local tested .predict from score.py                               \n",
       "save()    Available     Conducted Introspect Test                                         \n",
       "                        Uploaded artifact to model catalog                                \n",
       "deploy()  Not Available Deployed the model                                                \n",
       "predict() Not Available Called deployment predict endpoint                                "
      ]
     },
     "execution_count": 21,
     "metadata": {},
     "output_type": "execute_result"
    }
   ],
   "source": [
    "sklearn_model.summary_status()"
   ]
  },
  {
   "cell_type": "markdown",
   "id": "f1a1f836",
   "metadata": {},
   "source": [
    "The `.prepare()` method has created the following files. These files are fully functional. However, you can modify them to fit your specific needs."
   ]
  },
  {
   "cell_type": "code",
   "execution_count": 22,
   "id": "8ab974f6",
   "metadata": {},
   "outputs": [
    {
     "data": {
      "text/plain": [
       "['score.py',\n",
       " '.ipynb_checkpoints',\n",
       " 'output_schema.json',\n",
       " 'runtime.yaml',\n",
       " 'score-Copy1.py',\n",
       " 'input_schema.json',\n",
       " 'model.joblib']"
      ]
     },
     "execution_count": 22,
     "metadata": {},
     "output_type": "execute_result"
    }
   ],
   "source": [
    "os.listdir(artifact_dir)"
   ]
  },
  {
   "cell_type": "markdown",
   "id": "52e49b4f",
   "metadata": {},
   "source": [
    "Once the artifacts have been created, there are a number of attributes in the `SklearnModel` object that provides metadata about the model. The `.runtime` attribute details the model deployment settings and model provenance data."
   ]
  },
  {
   "cell_type": "code",
   "execution_count": 23,
   "id": "ab899c23",
   "metadata": {},
   "outputs": [
    {
     "data": {
      "text/plain": [
       "model_artifact_version: '3.0'\n",
       "model_deployment:\n",
       "  inference_conda_env:\n",
       "    inference_env_path: oci://service-conda-packs@id19sfcrra6z/service_pack/cpu/General_Machine_Learning_for_CPUs_on_Python_3.7/1.0/generalml_p37_cpu_v1\n",
       "    inference_env_slug: generalml_p37_cpu_v1\n",
       "    inference_env_type: data_science\n",
       "    inference_python_version: '3.7'\n",
       "model_provenance:\n",
       "  project_ocid: ''\n",
       "  tenancy_ocid: ''\n",
       "  training_code:\n",
       "    artifact_directory: /home/datascience/RedBull-Racining-TimeToPit/md-rbc-Pipeline-model\n",
       "  training_compartment_ocid: ''\n",
       "  training_conda_env:\n",
       "    training_env_path: oci://service-conda-packs@id19sfcrra6z/service_pack/cpu/General_Machine_Learning_for_CPUs_on_Python_3.7/1.0/generalml_p37_cpu_v1\n",
       "    training_env_slug: generalml_p37_cpu_v1\n",
       "    training_env_type: data_science\n",
       "    training_python_version: '3.7'\n",
       "  training_region: ''\n",
       "  training_resource_ocid: ''\n",
       "  user_ocid: ''\n",
       "  vm_image_internal_id: ''"
      ]
     },
     "execution_count": 23,
     "metadata": {},
     "output_type": "execute_result"
    }
   ],
   "source": [
    "sklearn_model.runtime_info"
   ]
  },
  {
   "cell_type": "markdown",
   "id": "f173ca71",
   "metadata": {},
   "source": [
    "The `.schema_input` attribute provides metadata on the features that were used to train the model. You can use this information to determine what data must be provided to make model inferences. Each feature in the model has a section that defines the dtype, feature type, name, and if it is required. The metadata also includes the summary statistics associated with the feature type."
   ]
  },
  {
   "cell_type": "code",
   "execution_count": 24,
   "id": "a2ccd875",
   "metadata": {},
   "outputs": [
    {
     "data": {
      "text/plain": [
       "schema:\n",
       "- description: GridPosition\n",
       "  domain:\n",
       "    constraints: []\n",
       "    stats:\n",
       "      count: 10.0\n",
       "      lower quartile: 7.5\n",
       "      mean: 11.7\n",
       "      median: 12.5\n",
       "      sample maximum: 20.0\n",
       "      sample minimum: 4.0\n",
       "      skew: 0.006\n",
       "      standard deviation: 5.122\n",
       "      upper quartile: 14.75\n",
       "    values: Continuous\n",
       "  dtype: float64\n",
       "  feature_type: Continuous\n",
       "  name: GridPosition\n",
       "  order: 8\n",
       "  required: true\n",
       "- description: EventName\n",
       "  domain:\n",
       "    constraints: []\n",
       "    stats:\n",
       "      count: 10\n",
       "      unique: 1\n",
       "    values: String\n",
       "  dtype: object\n",
       "  feature_type: String\n",
       "  name: EventName\n",
       "  order: 0\n",
       "  required: true\n",
       "- description: meanHumid\n",
       "  domain:\n",
       "    constraints: []\n",
       "    stats:\n",
       "      count: 10.0\n",
       "      lower quartile: 51.65\n",
       "      mean: 52.211\n",
       "      median: 51.695\n",
       "      sample maximum: 54.197\n",
       "      sample minimum: 51.65\n",
       "      skew: 1.611\n",
       "      standard deviation: 0.924\n",
       "      upper quartile: 52.353\n",
       "    values: Continuous\n",
       "  dtype: float64\n",
       "  feature_type: Continuous\n",
       "  name: meanHumid\n",
       "  order: 6\n",
       "  required: true\n",
       "- description: meanTrackTemp\n",
       "  domain:\n",
       "    constraints: []\n",
       "    stats:\n",
       "      count: 10.0\n",
       "      lower quartile: 28.065\n",
       "      mean: 28.516\n",
       "      median: 28.88\n",
       "      sample maximum: 28.91\n",
       "      sample minimum: 27.686\n",
       "      skew: -0.721\n",
       "      standard deviation: 0.514\n",
       "      upper quartile: 28.91\n",
       "    values: Continuous\n",
       "  dtype: float64\n",
       "  feature_type: Continuous\n",
       "  name: meanTrackTemp\n",
       "  order: 5\n",
       "  required: true\n",
       "- description: TyreAge\n",
       "  domain:\n",
       "    constraints: []\n",
       "    stats:\n",
       "      count: 10.0\n",
       "      lower quartile: 1.0\n",
       "      mean: 2.5\n",
       "      median: 2.5\n",
       "      sample maximum: 4.0\n",
       "      sample minimum: 1.0\n",
       "      skew: 0.0\n",
       "      standard deviation: 1.581\n",
       "      upper quartile: 4.0\n",
       "    values: Continuous\n",
       "  dtype: float64\n",
       "  feature_type: Continuous\n",
       "  name: TyreAge\n",
       "  order: 3\n",
       "  required: true\n",
       "- description: meanAirTemp\n",
       "  domain:\n",
       "    constraints: []\n",
       "    stats:\n",
       "      count: 10.0\n",
       "      lower quartile: 23.45\n",
       "      mean: 23.495\n",
       "      median: 23.555\n",
       "      sample maximum: 23.56\n",
       "      sample minimum: 23.311\n",
       "      skew: -1.188\n",
       "      standard deviation: 0.093\n",
       "      upper quartile: 23.56\n",
       "    values: Continuous\n",
       "  dtype: float64\n",
       "  feature_type: Continuous\n",
       "  name: meanAirTemp\n",
       "  order: 4\n",
       "  required: true\n",
       "- description: Rainfall\n",
       "  domain:\n",
       "    constraints: []\n",
       "    stats:\n",
       "      count: 10.0\n",
       "      lower quartile: 0.0\n",
       "      mean: 0.0\n",
       "      median: 0.0\n",
       "      sample maximum: 0.0\n",
       "      sample minimum: 0.0\n",
       "      skew: 0.0\n",
       "      standard deviation: 0.0\n",
       "      upper quartile: 0.0\n",
       "    values: Continuous\n",
       "  dtype: float64\n",
       "  feature_type: Continuous\n",
       "  name: Rainfall\n",
       "  order: 7\n",
       "  required: true\n",
       "- description: Position\n",
       "  domain:\n",
       "    constraints: []\n",
       "    stats:\n",
       "      count: 10.0\n",
       "      lower quartile: 8.75\n",
       "      mean: 12.2\n",
       "      median: 12.5\n",
       "      sample maximum: 19.0\n",
       "      sample minimum: 5.0\n",
       "      skew: -0.146\n",
       "      standard deviation: 4.803\n",
       "      upper quartile: 15.5\n",
       "    values: Continuous\n",
       "  dtype: float64\n",
       "  feature_type: Continuous\n",
       "  name: Position\n",
       "  order: 9\n",
       "  required: true\n",
       "- description: Driver\n",
       "  domain:\n",
       "    constraints: []\n",
       "    stats:\n",
       "      count: 10\n",
       "      unique: 10\n",
       "    values: String\n",
       "  dtype: object\n",
       "  feature_type: String\n",
       "  name: Driver\n",
       "  order: 2\n",
       "  required: true\n",
       "- description: designedLaps\n",
       "  domain:\n",
       "    constraints: []\n",
       "    stats:\n",
       "      count: 10.0\n",
       "      lower quartile: 55.0\n",
       "      mean: 55.0\n",
       "      median: 55.0\n",
       "      sample maximum: 55.0\n",
       "      sample minimum: 55.0\n",
       "      standard deviation: 0.0\n",
       "      upper quartile: 55.0\n",
       "    values: Integer\n",
       "  dtype: int64\n",
       "  feature_type: Integer\n",
       "  name: designedLaps\n",
       "  order: 11\n",
       "  required: true\n",
       "- description: CircuitLength\n",
       "  domain:\n",
       "    constraints: []\n",
       "    stats:\n",
       "      count: 10.0\n",
       "      lower quartile: 5.554\n",
       "      mean: 5.554\n",
       "      median: 5.554\n",
       "      sample maximum: 5.554\n",
       "      sample minimum: 5.554\n",
       "      skew: 0.0\n",
       "      standard deviation: 0.0\n",
       "      upper quartile: 5.554\n",
       "    values: Continuous\n",
       "  dtype: float64\n",
       "  feature_type: Continuous\n",
       "  name: CircuitLength\n",
       "  order: 10\n",
       "  required: true\n",
       "- description: Compound\n",
       "  domain:\n",
       "    constraints: []\n",
       "    stats:\n",
       "      count: 10\n",
       "      unique: 3\n",
       "    values: String\n",
       "  dtype: object\n",
       "  feature_type: String\n",
       "  name: Compound\n",
       "  order: 1\n",
       "  required: true"
      ]
     },
     "execution_count": 24,
     "metadata": {},
     "output_type": "execute_result"
    }
   ],
   "source": [
    "sklearn_model.schema_input"
   ]
  },
  {
   "cell_type": "markdown",
   "id": "fce3e57e",
   "metadata": {},
   "source": [
    "The `.metadata_custom` attribute provides custom metadata that contains information on the category of the metadata, description, key, and value."
   ]
  },
  {
   "cell_type": "code",
   "execution_count": 25,
   "id": "a7eafa2f",
   "metadata": {},
   "outputs": [
    {
     "data": {
      "text/plain": [
       "data:\n",
       "- category: Training Environment\n",
       "  description: The URI of the training conda environment.\n",
       "  key: CondaEnvironmentPath\n",
       "  value: oci://service-conda-packs@id19sfcrra6z/service_pack/cpu/General_Machine_Learning_for_CPUs_on_Python_3.7/1.0/generalml_p37_cpu_v1\n",
       "- category: Training Profile\n",
       "  description: The model serialization format.\n",
       "  key: ModelSerializationFormat\n",
       "  value: joblib\n",
       "- category: Training Environment\n",
       "  description: The slug name of the training conda environment.\n",
       "  key: SlugName\n",
       "  value: generalml_p37_cpu_v1\n",
       "- category: Training Environment\n",
       "  description: The conda environment type, can be published or datascience.\n",
       "  key: EnvironmentType\n",
       "  value: data_science\n",
       "- category: Other\n",
       "  description: ''\n",
       "  key: ClientLibrary\n",
       "  value: ADS\n",
       "- category: Training Environment\n",
       "  description: The conda environment where the model was trained.\n",
       "  key: CondaEnvironment\n",
       "  value: oci://service-conda-packs@id19sfcrra6z/service_pack/cpu/General_Machine_Learning_for_CPUs_on_Python_3.7/1.0/generalml_p37_cpu_v1\n",
       "- category: Training Environment\n",
       "  description: The list of files located in artifacts folder.\n",
       "  key: ModelArtifacts\n",
       "  value: score.py, runtime.yaml, score-Copy1.py, model.joblib, .ipynb_checkpoints"
      ]
     },
     "execution_count": 25,
     "metadata": {},
     "output_type": "execute_result"
    }
   ],
   "source": [
    "sklearn_model.metadata_custom"
   ]
  },
  {
   "cell_type": "markdown",
   "id": "c20b67ee",
   "metadata": {},
   "source": [
    "The `.metadata_provenance` contains information about the code and training data that was used to create the model. This information is most useful when a Git repository is being used to manage the code for training the model. This is considered a best practice because it allows you to do things like reproduce a model, perform forensic on the model, and so on."
   ]
  },
  {
   "cell_type": "code",
   "execution_count": 28,
   "id": "974fd196",
   "metadata": {},
   "outputs": [],
   "source": [
    "#sklearn_model.metadata_provenance"
   ]
  },
  {
   "cell_type": "markdown",
   "id": "8ad627c8",
   "metadata": {},
   "source": [
    "The `.metadata_taxonomy` is a key-value store that has information about the classification or taxonomy of the model. This can include information such as the model framework, use case type, hyperparameters, and more."
   ]
  },
  {
   "cell_type": "code",
   "execution_count": 29,
   "id": "95c2ed96",
   "metadata": {},
   "outputs": [
    {
     "data": {
      "text/plain": [
       "data:\n",
       "- key: Framework\n",
       "  value: scikit-learn\n",
       "- key: Algorithm\n",
       "  value: Pipeline\n",
       "- key: UseCaseType\n",
       "  value: binary_classification\n",
       "- key: ArtifactTestResults\n",
       "  value: null\n",
       "- key: Hyperparameters\n",
       "  value:\n",
       "    memory: None\n",
       "    model: LGBMClassifiermax_depth=5, n_estimators=50\n",
       "    model__boosting_type: gbdt\n",
       "    model__class_weight: None\n",
       "    model__colsample_bytree: '1.0'\n",
       "    model__importance_type: split\n",
       "    model__learning_rate: '0.1'\n",
       "    model__max_depth: '5'\n",
       "    model__min_child_samples: '20'\n",
       "    model__min_child_weight: '0.001'\n",
       "    model__min_split_gain: '0.0'\n",
       "    model__n_estimators: '50'\n",
       "    model__n_jobs: '-1'\n",
       "    model__num_leaves: '31'\n",
       "    model__objective: None\n",
       "    model__random_state: None\n",
       "    model__reg_alpha: '0.0'\n",
       "    model__reg_lambda: '0.0'\n",
       "    model__silent: warn\n",
       "    model__subsample: '1.0'\n",
       "    model__subsample_for_bin: '200000'\n",
       "    model__subsample_freq: '0'\n",
       "    preprocessor: \"ColumnTransformertransformers=['cat',\\n                                 Pipelinesteps=['encoder',\\n\n",
       "      \\                                                 OrdinalEncoder],\\n                                 ['EventName',\n",
       "      'Compound', 'Driver'],\\n                                'num',\\n                                 Pipelinesteps=['scaler',\n",
       "      StandardScaler],\\n                                 ['TyreAge', 'meanAirTemp',\n",
       "      'meanTrackTemp',\\n                                  'meanHumid', 'Rainfall',\n",
       "      'GridPosition',\\n                                  'Position', 'CircuitLength',\\n\n",
       "      \\                                 'designedLaps']]\"\n",
       "    preprocessor__cat: Pipeline(steps=[('encoder', OrdinalEncoder())])\n",
       "    preprocessor__cat__encoder: OrdinalEncoder()\n",
       "    preprocessor__cat__encoder__categories: auto\n",
       "    preprocessor__cat__encoder__dtype: <class 'numpy.float64'>\n",
       "    preprocessor__cat__encoder__encoded_missing_value: nan\n",
       "    preprocessor__cat__encoder__handle_unknown: error\n",
       "    preprocessor__cat__encoder__unknown_value: None\n",
       "    preprocessor__cat__memory: None\n",
       "    preprocessor__cat__steps: '[(''encoder'', OrdinalEncoder())]'\n",
       "    preprocessor__cat__verbose: 'False'\n",
       "    preprocessor__n_jobs: None\n",
       "    preprocessor__num: Pipeline(steps=[('scaler', StandardScaler())])\n",
       "    preprocessor__num__memory: None\n",
       "    preprocessor__num__scaler: StandardScaler()\n",
       "    preprocessor__num__scaler__copy: 'True'\n",
       "    preprocessor__num__scaler__with_mean: 'True'\n",
       "    preprocessor__num__scaler__with_std: 'True'\n",
       "    preprocessor__num__steps: '[(''scaler'', StandardScaler())]'\n",
       "    preprocessor__num__verbose: 'False'\n",
       "    preprocessor__remainder: drop\n",
       "    preprocessor__sparse_threshold: '0.3'\n",
       "    preprocessor__transformer_weights: None\n",
       "    preprocessor__transformers: '[(''cat'', Pipeline(steps=[(''encoder'', OrdinalEncoder())]),\n",
       "      [''EventName'', ''Compound'', ''Driver'']), (''num'', Pipeline(steps=[(''scaler'',\n",
       "      StandardScaler())]), [''TyreAge'', ''meanAirTemp'', ''meanTrackTemp'', ''meanHumid'',\n",
       "      ''Rainfall'', ''GridPosition'', ''Position'', ''CircuitLength'', ''designedLaps''])]'\n",
       "    preprocessor__verbose: 'False'\n",
       "    preprocessor__verbose_feature_names_out: 'True'\n",
       "    steps:\n",
       "      0:\n",
       "        preprocessor: \"ColumnTransformertransformers=['cat',\\n                                 Pipelinesteps=['encoder',\\n\n",
       "          \\                                                 OrdinalEncoder],\\n                                 ['EventName',\n",
       "          'Compound', 'Driver'],\\n                                'num',\\n                                 Pipelinesteps=['scaler',\n",
       "          StandardScaler],\\n                                 ['TyreAge', 'meanAirTemp',\n",
       "          'meanTrackTemp',\\n                                  'meanHumid', 'Rainfall',\n",
       "          'GridPosition',\\n                                  'Position', 'CircuitLength',\\n\n",
       "          \\                                 'designedLaps']]\"\n",
       "      1:\n",
       "        model: LGBMClassifiermax_depth=5, n_estimators=50\n",
       "    verbose: 'False'\n",
       "- key: FrameworkVersion\n",
       "  value: 1.1.2"
      ]
     },
     "execution_count": 29,
     "metadata": {},
     "output_type": "execute_result"
    }
   ],
   "source": [
    "sklearn_model.metadata_taxonomy"
   ]
  },
  {
   "cell_type": "markdown",
   "id": "23428e73",
   "metadata": {},
   "source": [
    "<a id='serialize_verify'></a>\n",
    "## Verify\n",
    "\n",
    "If you modify the `score.py` file that is part of the model artifacts, then you should verify it. The verify step allows you to test those changes without having to deploy the model. This allows you to debug your code without having to save the model to the model catalog and then deploy it. The `.verify()` method takes a set of test parameters and performs the prediction by calling the `predict` function in `score.py`. It also runs the `load_model` function.\n",
    "\n",
    "The next cell simulates a call to a deployed model without having to actually deploy the model. It passes in test values and returns the predictions."
   ]
  },
  {
   "cell_type": "code",
   "execution_count": 30,
   "id": "710ad604",
   "metadata": {},
   "outputs": [
    {
     "name": "stdout",
     "output_type": "stream",
     "text": [
      "0    4\n",
      "1    0\n",
      "2    0\n",
      "Name: classLabels, dtype: category\n",
      "Categories (6, int64): [0 < 1 < 2 < 3 < 4 < 5]\n"
     ]
    }
   ],
   "source": [
    "print(y[0:3])"
   ]
  },
  {
   "cell_type": "code",
   "execution_count": 31,
   "id": "0b5970b6",
   "metadata": {},
   "outputs": [
    {
     "name": "stdout",
     "output_type": "stream",
     "text": [
      "Start loading model.joblib from model directory /home/datascience/RedBull-Racining-TimeToPit/md-rbc-Pipeline-model ...\n",
      "Model is successfully loaded.\n"
     ]
    },
    {
     "data": {
      "text/plain": [
       "{'prediction': [4, 0, 0]}"
      ]
     },
     "execution_count": 31,
     "metadata": {},
     "output_type": "execute_result"
    }
   ],
   "source": [
    "sklearn_model.verify(x[0:3].reset_index(drop=True))"
   ]
  },
  {
   "cell_type": "markdown",
   "id": "7cfc5574",
   "metadata": {},
   "source": [
    "The `.summary_status()` method is updated to show that the verify step has been completed."
   ]
  },
  {
   "cell_type": "code",
   "execution_count": 32,
   "id": "c4479b13",
   "metadata": {},
   "outputs": [
    {
     "data": {
      "text/html": [
       "<div>\n",
       "<style scoped>\n",
       "    .dataframe tbody tr th:only-of-type {\n",
       "        vertical-align: middle;\n",
       "    }\n",
       "\n",
       "    .dataframe tbody tr th {\n",
       "        vertical-align: top;\n",
       "    }\n",
       "\n",
       "    .dataframe thead th {\n",
       "        text-align: right;\n",
       "    }\n",
       "</style>\n",
       "<table border=\"1\" class=\"dataframe\">\n",
       "  <thead>\n",
       "    <tr style=\"text-align: right;\">\n",
       "      <th></th>\n",
       "      <th></th>\n",
       "      <th></th>\n",
       "      <th>Actions Needed</th>\n",
       "    </tr>\n",
       "    <tr>\n",
       "      <th>Step</th>\n",
       "      <th>Status</th>\n",
       "      <th>Details</th>\n",
       "      <th></th>\n",
       "    </tr>\n",
       "  </thead>\n",
       "  <tbody>\n",
       "    <tr>\n",
       "      <th>initiate</th>\n",
       "      <th>Done</th>\n",
       "      <th>Initiated the model</th>\n",
       "      <td></td>\n",
       "    </tr>\n",
       "    <tr>\n",
       "      <th rowspan=\"4\" valign=\"top\">prepare()</th>\n",
       "      <th rowspan=\"4\" valign=\"top\">Done</th>\n",
       "      <th>Generated runtime.yaml</th>\n",
       "      <td></td>\n",
       "    </tr>\n",
       "    <tr>\n",
       "      <th>Generated score.py</th>\n",
       "      <td></td>\n",
       "    </tr>\n",
       "    <tr>\n",
       "      <th>Serialized model</th>\n",
       "      <td></td>\n",
       "    </tr>\n",
       "    <tr>\n",
       "      <th>Populated metadata(Custom, Taxonomy and Provenance)</th>\n",
       "      <td></td>\n",
       "    </tr>\n",
       "    <tr>\n",
       "      <th>verify()</th>\n",
       "      <th>Done</th>\n",
       "      <th>Local tested .predict from score.py</th>\n",
       "      <td></td>\n",
       "    </tr>\n",
       "    <tr>\n",
       "      <th rowspan=\"2\" valign=\"top\">save()</th>\n",
       "      <th rowspan=\"2\" valign=\"top\">Available</th>\n",
       "      <th>Conducted Introspect Test</th>\n",
       "      <td></td>\n",
       "    </tr>\n",
       "    <tr>\n",
       "      <th>Uploaded artifact to model catalog</th>\n",
       "      <td></td>\n",
       "    </tr>\n",
       "    <tr>\n",
       "      <th>deploy()</th>\n",
       "      <th>Not Available</th>\n",
       "      <th>Deployed the model</th>\n",
       "      <td></td>\n",
       "    </tr>\n",
       "    <tr>\n",
       "      <th>predict()</th>\n",
       "      <th>Not Available</th>\n",
       "      <th>Called deployment predict endpoint</th>\n",
       "      <td></td>\n",
       "    </tr>\n",
       "  </tbody>\n",
       "</table>\n",
       "</div>"
      ],
      "text/plain": [
       "                                                                            Actions Needed\n",
       "Step      Status        Details                                                           \n",
       "initiate  Done          Initiated the model                                               \n",
       "prepare() Done          Generated runtime.yaml                                            \n",
       "                        Generated score.py                                                \n",
       "                        Serialized model                                                  \n",
       "                        Populated metadata(Custom, Taxonomy and Provenance)               \n",
       "verify()  Done          Local tested .predict from score.py                               \n",
       "save()    Available     Conducted Introspect Test                                         \n",
       "                        Uploaded artifact to model catalog                                \n",
       "deploy()  Not Available Deployed the model                                                \n",
       "predict() Not Available Called deployment predict endpoint                                "
      ]
     },
     "execution_count": 32,
     "metadata": {},
     "output_type": "execute_result"
    }
   ],
   "source": [
    "sklearn_model.summary_status()"
   ]
  },
  {
   "cell_type": "markdown",
   "id": "917c7878",
   "metadata": {},
   "source": [
    "<a id='serialize_save'></a>\n",
    "## Save\n",
    "\n",
    "Once you are satisfied with the performance of the model and have verified that the `score.py` file is working, you can save the model to the model catalog. You do this with the `.save()` method on a `SklearnModel` object. This bundles up the model artifact that you have created, and push it to the model catalog. It returns the model OCID."
   ]
  },
  {
   "cell_type": "code",
   "execution_count": 33,
   "id": "6b75c415",
   "metadata": {},
   "outputs": [
    {
     "name": "stdout",
     "output_type": "stream",
     "text": [
      "Start loading model.joblib from model directory /home/datascience/RedBull-Racining-TimeToPit/md-rbc-Pipeline-model ...\n",
      "Model is successfully loaded.\n",
      "['score.py', 'output_schema.json', 'runtime.yaml', 'score-Copy1.py', 'input_schema.json', 'model.joblib']\n"
     ]
    },
    {
     "data": {
      "application/vnd.jupyter.widget-view+json": {
       "model_id": "",
       "version_major": 2,
       "version_minor": 0
      },
      "text/plain": [
       "loop1:   0%|          | 0/5 [00:00<?, ?it/s]"
      ]
     },
     "metadata": {},
     "output_type": "display_data"
    },
    {
     "name": "stdout",
     "output_type": "stream",
     "text": [
      "artifact:/tmp/saved_model_589caec5-05c6-49be-9aa4-835c34fa6b88.zip\n"
     ]
    }
   ],
   "source": [
    "model_id = sklearn_model.save(display_name='rbr_deployed_Model_v2')"
   ]
  },
  {
   "cell_type": "code",
   "execution_count": 40,
   "id": "d6d270a0",
   "metadata": {},
   "outputs": [
    {
     "data": {
      "text/plain": [
       "'ocid1.datasciencemodel.oc1.eu-frankfurt-1.amaaaaaaeras5xiathsdvcodjxioccsl3bmmou7j2tihpuvuc4mfrwolejca'"
      ]
     },
     "execution_count": 40,
     "metadata": {},
     "output_type": "execute_result"
    }
   ],
   "source": [
    "model_id"
   ]
  },
  {
   "cell_type": "markdown",
   "id": "d6197579",
   "metadata": {},
   "source": [
    "<a id='serialize_deploy'></a>\n",
    "## Deploy\n",
    "\n",
    "With the model in the model catalog, you can use the `.deploy()` method of an `SklearnModel` object to deploy the model. This method allows you to specify the attributes of the deployment such as the display name, description, instance type and count, the maximum bandwidth, and logging groups. The next cell deployd the model with the default settings, except for the custom display name. The `.deploy()` method returns a `ModelDeployment` object."
   ]
  },
  {
   "cell_type": "code",
   "execution_count": 41,
   "id": "c76b84ba",
   "metadata": {},
   "outputs": [
    {
     "data": {
      "application/vnd.jupyter.widget-view+json": {
       "model_id": "",
       "version_major": 2,
       "version_minor": 0
      },
      "text/plain": [
       "loop1:   0%|          | 0/6 [00:00<?, ?it/s]"
      ]
     },
     "metadata": {},
     "output_type": "display_data"
    },
    {
     "name": "stdout",
     "output_type": "stream",
     "text": [
      "CPU times: user 734 ms, sys: 34.9 ms, total: 769 ms\n",
      "Wall time: 12min 39s\n"
     ]
    }
   ],
   "source": [
    "%%time\n",
    "deploy = sklearn_model.deploy(display_name='rbr_deployed_Model_v1',)"
   ]
  },
  {
   "cell_type": "markdown",
   "id": "cbe977fb",
   "metadata": {},
   "source": [
    "After deployment, the `.summary_status()` method shows that the model is ACTIVE and the `predict()` method is available."
   ]
  },
  {
   "cell_type": "code",
   "execution_count": 42,
   "id": "ab40e892",
   "metadata": {},
   "outputs": [
    {
     "data": {
      "text/html": [
       "<div>\n",
       "<style scoped>\n",
       "    .dataframe tbody tr th:only-of-type {\n",
       "        vertical-align: middle;\n",
       "    }\n",
       "\n",
       "    .dataframe tbody tr th {\n",
       "        vertical-align: top;\n",
       "    }\n",
       "\n",
       "    .dataframe thead th {\n",
       "        text-align: right;\n",
       "    }\n",
       "</style>\n",
       "<table border=\"1\" class=\"dataframe\">\n",
       "  <thead>\n",
       "    <tr style=\"text-align: right;\">\n",
       "      <th></th>\n",
       "      <th></th>\n",
       "      <th></th>\n",
       "      <th>Actions Needed</th>\n",
       "    </tr>\n",
       "    <tr>\n",
       "      <th>Step</th>\n",
       "      <th>Status</th>\n",
       "      <th>Details</th>\n",
       "      <th></th>\n",
       "    </tr>\n",
       "  </thead>\n",
       "  <tbody>\n",
       "    <tr>\n",
       "      <th>initiate</th>\n",
       "      <th>Done</th>\n",
       "      <th>Initiated the model</th>\n",
       "      <td></td>\n",
       "    </tr>\n",
       "    <tr>\n",
       "      <th rowspan=\"4\" valign=\"top\">prepare()</th>\n",
       "      <th rowspan=\"4\" valign=\"top\">Done</th>\n",
       "      <th>Generated runtime.yaml</th>\n",
       "      <td></td>\n",
       "    </tr>\n",
       "    <tr>\n",
       "      <th>Generated score.py</th>\n",
       "      <td></td>\n",
       "    </tr>\n",
       "    <tr>\n",
       "      <th>Serialized model</th>\n",
       "      <td></td>\n",
       "    </tr>\n",
       "    <tr>\n",
       "      <th>Populated metadata(Custom, Taxonomy and Provenance)</th>\n",
       "      <td></td>\n",
       "    </tr>\n",
       "    <tr>\n",
       "      <th>verify()</th>\n",
       "      <th>Done</th>\n",
       "      <th>Local tested .predict from score.py</th>\n",
       "      <td></td>\n",
       "    </tr>\n",
       "    <tr>\n",
       "      <th rowspan=\"2\" valign=\"top\">save()</th>\n",
       "      <th rowspan=\"2\" valign=\"top\">Done</th>\n",
       "      <th>Conducted Introspect Test</th>\n",
       "      <td></td>\n",
       "    </tr>\n",
       "    <tr>\n",
       "      <th>Uploaded artifact to model catalog</th>\n",
       "      <td></td>\n",
       "    </tr>\n",
       "    <tr>\n",
       "      <th>deploy()</th>\n",
       "      <th>ACTIVE</th>\n",
       "      <th>Deployed the model</th>\n",
       "      <td></td>\n",
       "    </tr>\n",
       "    <tr>\n",
       "      <th>predict()</th>\n",
       "      <th>Available</th>\n",
       "      <th>Called deployment predict endpoint</th>\n",
       "      <td></td>\n",
       "    </tr>\n",
       "  </tbody>\n",
       "</table>\n",
       "</div>"
      ],
      "text/plain": [
       "                                                                        Actions Needed\n",
       "Step      Status    Details                                                           \n",
       "initiate  Done      Initiated the model                                               \n",
       "prepare() Done      Generated runtime.yaml                                            \n",
       "                    Generated score.py                                                \n",
       "                    Serialized model                                                  \n",
       "                    Populated metadata(Custom, Taxonomy and Provenance)               \n",
       "verify()  Done      Local tested .predict from score.py                               \n",
       "save()    Done      Conducted Introspect Test                                         \n",
       "                    Uploaded artifact to model catalog                                \n",
       "deploy()  ACTIVE    Deployed the model                                                \n",
       "predict() Available Called deployment predict endpoint                                "
      ]
     },
     "execution_count": 42,
     "metadata": {},
     "output_type": "execute_result"
    }
   ],
   "source": [
    "sklearn_model.summary_status()"
   ]
  },
  {
   "cell_type": "markdown",
   "id": "315684b1",
   "metadata": {},
   "source": [
    "<a id='invoke_endpoint'></a>\n",
    "# Invoking the Endpoint\n",
    "\n",
    "#### Invoke deployed model\n",
    "1. load data from storage though for this demo we are using in memory data here.\n",
    "2. create JSON string\n",
    "3. Hit the endpoint"
   ]
  },
  {
   "cell_type": "code",
   "execution_count": 43,
   "id": "51450498",
   "metadata": {},
   "outputs": [],
   "source": [
    "import ads\n",
    "import requests\n",
    "import io\n",
    "import oci\n",
    "from oci.signer import Signer\n",
    "ads.set_auth(\"resource_principal\")\n",
    "auth = oci.auth.signers.get_resource_principals_signer()\n",
    "import pandas as pd\n",
    "import numpy as np\n",
    "\n",
    "## since data is already in the memory therefore we are not reloading it. We use X_test_xgbc transform a few rows to JSON and invoke the end point\n"
   ]
  },
  {
   "cell_type": "markdown",
   "id": "1ca27791",
   "metadata": {},
   "source": [
    "### Invoke "
   ]
  },
  {
   "cell_type": "code",
   "execution_count": null,
   "id": "ecc2a0ed",
   "metadata": {},
   "outputs": [],
   "source": []
  },
  {
   "cell_type": "code",
   "execution_count": 45,
   "id": "f4c67e1f",
   "metadata": {},
   "outputs": [
    {
     "data": {
      "text/plain": [
       "{'prediction': [4, 0, 0]}"
      ]
     },
     "execution_count": 45,
     "metadata": {},
     "output_type": "execute_result"
    }
   ],
   "source": [
    "## select a few records and create JOSN string\n",
    "## Invoke the endpoint\n",
    "\n",
    "\n",
    "input_data = x[0:3].to_json(orient='records')\n",
    "endpoint = 'https://modeldeployment.eu-frankfurt-1.oci.customer-oci.com/ocid1.datasciencemodeldeployment.oc1.eu-frankfurt-1.amaaaaaaeras5xiajfocdhkqrlgypfij4ftru23itrsasw55jjtj2ex5fpma/predict'\n",
    "body = input_data \n",
    "\n",
    "body = {'data': input_data, 'data_type':\"pandas.core.frame.DataFrame\"}\n",
    "\n",
    "requests.post(endpoint, json=body, auth=auth).json()"
   ]
  },
  {
   "cell_type": "markdown",
   "id": "1fba3745",
   "metadata": {},
   "source": [
    "<a id='cleanup'></a>\n",
    "# Clean Up\n",
    "\n",
    "This notebook created a model deployment and a model. This section cleans up those resources. \n",
    "\n",
    "The model deployment must be deleted before the model can be deleted. You use the `.delete_deployment()` method on the `SklearnModel` object to do this."
   ]
  },
  {
   "cell_type": "markdown",
   "id": "c02a3c2d",
   "metadata": {},
   "source": [
    "## Delete a Model Deployment\n",
    "The `odsc` SDK provides two methods for deleting a model deployment. The `ModelDeployer` class has a static method delete(). This method can also be accessed on a `ModelDeployer` object. For example, this notebook has a variable `deployer` which is a `ModelDeployer` object. A model deployment can be deleted with:\n",
    "\n",
    "deployer.delete(model_deployment_id=deployment_id)\n",
    "or equivalently,\n",
    "\n",
    "ModelDeployer.delete(model_deployment_id=deployment_id)\n",
    "If you have a `ModelDeployment` object, there is a `delete()` method that will delete the model that is associated with that object. The optional parameter `wait_for_completion` accepts a boolean and determines if the process is blocking or not.\n",
    "\n",
    "The next cell will use a `ModelDeployment` object to delete the model deployment that was created in this notebook."
   ]
  },
  {
   "cell_type": "code",
   "execution_count": null,
   "id": "5f02d8a9",
   "metadata": {},
   "outputs": [],
   "source": [
    "sklearn_model.delete_deployment(wait_for_completion=True)"
   ]
  },
  {
   "cell_type": "markdown",
   "id": "8e956eba",
   "metadata": {},
   "source": [
    "When a model deployment is deleted, it deletes the load balancer instances associated with it. If logging was configured, it does not delete that log group or loggers. In addition, the model in the model catalog is not deleted. In the next cell, these resources will be removed."
   ]
  },
  {
   "cell_type": "code",
   "execution_count": null,
   "id": "5b1647c9",
   "metadata": {},
   "outputs": [],
   "source": [
    "# Delete the log group and logs\n",
    "# logging_client = oci.logging.LoggingManagementClient(config=oci.config.from_file())\n",
    "# logging_client.delete_log(log_group_ocid, access_log_ocid)\n",
    "# logging_client.delete_log(log_group_ocid, predict_log_ocid)\n",
    "# logging_client.delete_log_group(log_group_ocid)\n",
    "\n",
    "# Delete the model\n",
    "ModelCatalog().delete_model(model_id)"
   ]
  },
  {
   "cell_type": "code",
   "execution_count": null,
   "id": "85be1ead",
   "metadata": {},
   "outputs": [],
   "source": []
  },
  {
   "cell_type": "code",
   "execution_count": null,
   "id": "15b3ece2",
   "metadata": {},
   "outputs": [],
   "source": []
  },
  {
   "cell_type": "code",
   "execution_count": null,
   "id": "ba813d1d",
   "metadata": {},
   "outputs": [],
   "source": []
  }
 ],
 "metadata": {
  "kernelspec": {
   "display_name": "Python [conda env:root] *",
   "language": "python",
   "name": "conda-root-py"
  },
  "language_info": {
   "codemirror_mode": {
    "name": "ipython",
    "version": 3
   },
   "file_extension": ".py",
   "mimetype": "text/x-python",
   "name": "python",
   "nbconvert_exporter": "python",
   "pygments_lexer": "ipython3",
   "version": "3.8.11"
  }
 },
 "nbformat": 4,
 "nbformat_minor": 5
}
